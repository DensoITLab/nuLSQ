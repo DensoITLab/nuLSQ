{
 "cells": [
  {
   "cell_type": "code",
   "execution_count": 10,
   "metadata": {},
   "outputs": [],
   "source": [
    "import yaml"
   ]
  },
  {
   "cell_type": "code",
   "execution_count": 11,
   "metadata": {},
   "outputs": [],
   "source": [
    "with open('AdamW.yaml') as file:\n",
    "    config = yaml.safe_load(file.read())"
   ]
  },
  {
   "cell_type": "code",
   "execution_count": 14,
   "metadata": {},
   "outputs": [
    {
     "data": {
      "text/plain": [
       "{'action': 'load',\n",
       " 'dataset_name': 'cifar10',\n",
       " 'model': 'apot_resnet20_cifar10',\n",
       " 'nepochs': 300,\n",
       " 'batch_size': 128,\n",
       " 'optimizer': 'SGD',\n",
       " 'momentum': 0.9,\n",
       " 'nesterov': True,\n",
       " 'lr_scheduler': 'CosineAnnealing',\n",
       " 'num_bits': 3,\n",
       " 'w_first_last_quantizer': 'MinMax_quantizer',\n",
       " 'x_first_last_quantizer': 'MinMax_quantizer',\n",
       " 'w_first_last_initializer': 'None',\n",
       " 'x_first_last_initializer': 'None',\n",
       " 'w_first_last_grad_scale_mode': 'LSQ_grad_scale',\n",
       " 'x_first_last_grad_scale_mode': 'LSQ_grad_scale',\n",
       " 'first_bits': 8,\n",
       " 'last_bits': 8,\n",
       " 'init_num': 100,\n",
       " 'w_initializer': None,\n",
       " 'x_initializer': None,\n",
       " 'w_quantizer': 'None',\n",
       " 'x_qnautizer': 'None',\n",
       " 'w_grad_scale_mode': 'None',\n",
       " 'x_grad_scale_mode': 'None',\n",
       " 'different_optimizer_mode': True,\n",
       " 'step_size_optimizer': 'AdamW'}"
      ]
     },
     "execution_count": 14,
     "metadata": {},
     "output_type": "execute_result"
    }
   ],
   "source": [
    "config"
   ]
  },
  {
   "cell_type": "code",
   "execution_count": null,
   "metadata": {},
   "outputs": [],
   "source": []
  }
 ],
 "metadata": {
  "kernelspec": {
   "display_name": "base",
   "language": "python",
   "name": "python3"
  },
  "language_info": {
   "codemirror_mode": {
    "name": "ipython",
    "version": 3
   },
   "file_extension": ".py",
   "mimetype": "text/x-python",
   "name": "python",
   "nbconvert_exporter": "python",
   "pygments_lexer": "ipython3",
   "version": "3.8.5"
  }
 },
 "nbformat": 4,
 "nbformat_minor": 2
}
